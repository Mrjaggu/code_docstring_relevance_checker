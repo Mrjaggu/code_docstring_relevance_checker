{
 "cells": [
  {
   "cell_type": "code",
   "execution_count": 1,
   "id": "3fcfb864-c362-4409-ab3f-7f4a8e7a1cdd",
   "metadata": {},
   "outputs": [],
   "source": [
    "## Do not change this cell\n",
    "eventid='20221111'\n",
    "questionid='1b8e1e6a-9e10-4617-9705-610843f5e3a6'"
   ]
  },
  {
   "cell_type": "code",
   "execution_count": 4,
   "id": "61350208-7f3c-4dbc-a8ff-6e64304996a4",
   "metadata": {},
   "outputs": [],
   "source": [
    "## Update this cell with correct names \n",
    "## All these files should in the same directory where this submission is present\n",
    "## The directory can have other files present\n",
    "notebook=\"best_scoring_notebook.ipynb\"  # This field should exist in the same directory as the submission notebook\n",
    "# imported_objects =[\"vec_code_2.pkl\",\"vec_docstring_2.pkl\",\"lgbm_model_v2.pkl\"]\n",
    "imported_objects = [\"lgbm_sentence_model_whole_data_with_sim_2000.pkl\"]\n",
    "output=\"lgbm_sentence_model_whole_data_with_sim_2000_result.csv\" # Should be a csv file produced by Scoring notebook with two columns id and y_pred containing predictions and all the ids in test dataset\n"
   ]
  },
  {
   "cell_type": "code",
   "execution_count": 5,
   "id": "49158d82-dab6-4a73-ae91-f43bcf10601d",
   "metadata": {},
   "outputs": [
    {
     "name": "stderr",
     "output_type": "stream",
     "text": [
      "  0%|          | 0/4 [00:00<?, ?it/s]"
     ]
    },
    {
     "name": "stdout",
     "output_type": "stream",
     "text": [
      "Initializing..\n"
     ]
    },
    {
     "name": "stderr",
     "output_type": "stream",
     "text": [
      " 25%|██▌       | 1/4 [00:01<00:03,  1.00s/it]"
     ]
    },
    {
     "name": "stdout",
     "output_type": "stream",
     "text": [
      "Creating temporary directory limfsiyf\n"
     ]
    },
    {
     "name": "stderr",
     "output_type": "stream",
     "text": [
      " 50%|█████     | 2/4 [00:02<00:02,  1.01s/it]"
     ]
    },
    {
     "name": "stdout",
     "output_type": "stream",
     "text": [
      "Testing Scoring notebook locally on small sample\n",
      "Notebook has run without error\n"
     ]
    },
    {
     "name": "stderr",
     "output_type": "stream",
     "text": [
      " 75%|███████▌  | 3/4 [00:27<00:11, 11.97s/it]"
     ]
    },
    {
     "name": "stdout",
     "output_type": "stream",
     "text": [
      "Scoring notebook has passed initial tests. Submitting for full evaluation.\n"
     ]
    },
    {
     "name": "stderr",
     "output_type": "stream",
     "text": [
      "100%|██████████| 4/4 [00:28<00:00,  7.02s/it]"
     ]
    },
    {
     "name": "stdout",
     "output_type": "stream",
     "text": [
      "Notebook submitted. Results will be available in portal with reference id limfsiyf\n"
     ]
    },
    {
     "name": "stderr",
     "output_type": "stream",
     "text": [
      "\n"
     ]
    }
   ],
   "source": [
    "## Run this cell to submit your Scoring Notebook\n",
    "\n",
    "import mathlogic as ml\n",
    "ml.submit_notebook(eventid=eventid, questionid=questionid, notebook=notebook, imported_objects=imported_objects, output=output)\n"
   ]
  },
  {
   "cell_type": "code",
   "execution_count": null,
   "id": "f8817560-2496-405f-8bad-0462f00652db",
   "metadata": {},
   "outputs": [],
   "source": []
  }
 ],
 "metadata": {
  "kernelspec": {
   "display_name": "Python 3 (ipykernel)",
   "language": "python",
   "name": "python3"
  },
  "language_info": {
   "codemirror_mode": {
    "name": "ipython",
    "version": 3
   },
   "file_extension": ".py",
   "mimetype": "text/x-python",
   "name": "python",
   "nbconvert_exporter": "python",
   "pygments_lexer": "ipython3",
   "version": "3.10.6"
  }
 },
 "nbformat": 4,
 "nbformat_minor": 5
}
